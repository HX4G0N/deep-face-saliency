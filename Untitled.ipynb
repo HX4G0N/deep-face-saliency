{
 "cells": [
  {
   "cell_type": "code",
   "execution_count": 81,
   "metadata": {},
   "outputs": [],
   "source": [
    "import pickle\n",
    "import matplotlib.pyplot as plt\n",
    "import numpy as np\n",
    "import scipy.interpolate as interp\n",
    "%matplotlib inline"
   ]
  },
  {
   "cell_type": "code",
   "execution_count": 76,
   "metadata": {},
   "outputs": [],
   "source": [
    "loss_hist = []\n",
    "for i in range(50):\n",
    "    loss_hist.append(pickle.load(open('save_fcn_acc_loss_' + str(i) + '.pkl', 'rb')))"
   ]
  },
  {
   "cell_type": "code",
   "execution_count": 40,
   "metadata": {},
   "outputs": [
    {
     "data": {
      "text/plain": [
       "{'train_loss_history': [array(0.13128018, dtype=float32),\n",
       "  array(0.12114649, dtype=float32),\n",
       "  array(0.1616339, dtype=float32),\n",
       "  array(0.08978038, dtype=float32),\n",
       "  array(0.16940357, dtype=float32),\n",
       "  array(0.22593664, dtype=float32),\n",
       "  array(0.0919205, dtype=float32),\n",
       "  array(0.0980802, dtype=float32),\n",
       "  array(0.15348394, dtype=float32),\n",
       "  array(0.18490238, dtype=float32),\n",
       "  array(0.19630711, dtype=float32),\n",
       "  array(0.12611751, dtype=float32),\n",
       "  array(0.16422406, dtype=float32),\n",
       "  array(0.17761843, dtype=float32),\n",
       "  array(0.1474744, dtype=float32),\n",
       "  array(0.2778383, dtype=float32),\n",
       "  array(0.15117094, dtype=float32),\n",
       "  array(0.10534368, dtype=float32),\n",
       "  array(0.16997276, dtype=float32),\n",
       "  array(0.18476626, dtype=float32),\n",
       "  array(0.14887789, dtype=float32),\n",
       "  array(0.156396, dtype=float32),\n",
       "  array(0.11349706, dtype=float32),\n",
       "  array(0.12748636, dtype=float32),\n",
       "  array(0.10781002, dtype=float32),\n",
       "  array(0.12896474, dtype=float32),\n",
       "  array(0.23074082, dtype=float32),\n",
       "  array(0.09746975, dtype=float32),\n",
       "  array(0.15508747, dtype=float32),\n",
       "  array(0.22266027, dtype=float32),\n",
       "  array(0.13987671, dtype=float32),\n",
       "  array(0.14644131, dtype=float32),\n",
       "  array(0.2027268, dtype=float32),\n",
       "  array(0.12588353, dtype=float32),\n",
       "  array(0.19723977, dtype=float32),\n",
       "  array(0.11498258, dtype=float32),\n",
       "  array(0.1401632, dtype=float32),\n",
       "  array(0.13948864, dtype=float32),\n",
       "  array(0.12767753, dtype=float32),\n",
       "  array(0.20816565, dtype=float32),\n",
       "  array(0.14877258, dtype=float32),\n",
       "  array(0.20267326, dtype=float32),\n",
       "  array(0.1711446, dtype=float32),\n",
       "  array(0.20393467, dtype=float32),\n",
       "  array(0.09982545, dtype=float32),\n",
       "  array(0.15698108, dtype=float32),\n",
       "  array(0.14252293, dtype=float32),\n",
       "  array(0.16661547, dtype=float32),\n",
       "  array(0.19061029, dtype=float32),\n",
       "  array(0.12242378, dtype=float32),\n",
       "  array(0.12902042, dtype=float32),\n",
       "  array(0.11651906, dtype=float32),\n",
       "  array(0.11725526, dtype=float32),\n",
       "  array(0.17872563, dtype=float32),\n",
       "  array(0.15711674, dtype=float32),\n",
       "  array(0.12018233, dtype=float32),\n",
       "  array(0.2053595, dtype=float32),\n",
       "  array(0.11806779, dtype=float32),\n",
       "  array(0.17354248, dtype=float32),\n",
       "  array(0.11629925, dtype=float32),\n",
       "  array(0.11346778, dtype=float32),\n",
       "  array(0.15174341, dtype=float32),\n",
       "  array(0.11799373, dtype=float32),\n",
       "  array(0.19987266, dtype=float32),\n",
       "  array(0.19875704, dtype=float32),\n",
       "  array(0.14142975, dtype=float32),\n",
       "  array(0.1809035, dtype=float32),\n",
       "  array(0.15651913, dtype=float32),\n",
       "  array(0.18097779, dtype=float32),\n",
       "  array(0.11683457, dtype=float32),\n",
       "  array(0.09511218, dtype=float32),\n",
       "  array(0.10849435, dtype=float32),\n",
       "  array(0.11646026, dtype=float32),\n",
       "  array(0.15812528, dtype=float32),\n",
       "  array(0.17227492, dtype=float32),\n",
       "  array(0.13261996, dtype=float32),\n",
       "  array(0.16135862, dtype=float32),\n",
       "  array(0.13233726, dtype=float32),\n",
       "  array(0.12775248, dtype=float32),\n",
       "  array(0.09237809, dtype=float32),\n",
       "  array(0.1104736, dtype=float32),\n",
       "  array(0.11988224, dtype=float32),\n",
       "  array(0.16602525, dtype=float32),\n",
       "  array(0.11606141, dtype=float32),\n",
       "  array(0.10829254, dtype=float32),\n",
       "  array(0.11988534, dtype=float32),\n",
       "  array(0.14864054, dtype=float32),\n",
       "  array(0.1423968, dtype=float32),\n",
       "  array(0.07346747, dtype=float32),\n",
       "  array(0.06918024, dtype=float32),\n",
       "  array(0.16881412, dtype=float32),\n",
       "  array(0.11751587, dtype=float32),\n",
       "  array(0.09041389, dtype=float32),\n",
       "  array(0.17342624, dtype=float32),\n",
       "  array(0.10885249, dtype=float32),\n",
       "  array(0.11423925, dtype=float32),\n",
       "  array(0.17864795, dtype=float32),\n",
       "  array(0.12474134, dtype=float32),\n",
       "  array(0.08291775, dtype=float32),\n",
       "  array(0.14803472, dtype=float32),\n",
       "  array(0.08666981, dtype=float32),\n",
       "  array(0.102372, dtype=float32),\n",
       "  array(0.1308826, dtype=float32),\n",
       "  array(0.1705025, dtype=float32),\n",
       "  array(0.14888321, dtype=float32),\n",
       "  array(0.09582391, dtype=float32),\n",
       "  array(0.13044795, dtype=float32),\n",
       "  array(0.1777312, dtype=float32),\n",
       "  array(0.1046726, dtype=float32),\n",
       "  array(0.17286485, dtype=float32),\n",
       "  array(0.15258792, dtype=float32),\n",
       "  array(0.20191364, dtype=float32),\n",
       "  array(0.12060041, dtype=float32),\n",
       "  array(0.2134286, dtype=float32),\n",
       "  array(0.15900345, dtype=float32),\n",
       "  array(0.10996015, dtype=float32),\n",
       "  array(0.22420807, dtype=float32),\n",
       "  array(0.10123329, dtype=float32),\n",
       "  array(0.16199782, dtype=float32),\n",
       "  array(0.09114645, dtype=float32),\n",
       "  array(0.09345383, dtype=float32),\n",
       "  array(0.10361813, dtype=float32),\n",
       "  array(0.09228124, dtype=float32),\n",
       "  array(0.11977603, dtype=float32),\n",
       "  array(0.1214774, dtype=float32),\n",
       "  array(0.12784201, dtype=float32),\n",
       "  array(0.09137182, dtype=float32),\n",
       "  array(0.13655123, dtype=float32),\n",
       "  array(0.10392177, dtype=float32),\n",
       "  array(0.11926921, dtype=float32),\n",
       "  array(0.09308007, dtype=float32),\n",
       "  array(0.15384309, dtype=float32),\n",
       "  array(0.10157184, dtype=float32),\n",
       "  array(0.18540868, dtype=float32),\n",
       "  array(0.08912823, dtype=float32),\n",
       "  array(0.23923773, dtype=float32),\n",
       "  array(0.14737049, dtype=float32),\n",
       "  array(0.20191725, dtype=float32),\n",
       "  array(0.11314664, dtype=float32),\n",
       "  array(0.13963582, dtype=float32),\n",
       "  array(0.1434022, dtype=float32),\n",
       "  array(0.15494901, dtype=float32),\n",
       "  array(0.13153973, dtype=float32),\n",
       "  array(0.16416901, dtype=float32),\n",
       "  array(0.10925493, dtype=float32),\n",
       "  array(0.10786895, dtype=float32),\n",
       "  array(0.0839448, dtype=float32),\n",
       "  array(0.29933006, dtype=float32),\n",
       "  array(0.1368197, dtype=float32),\n",
       "  array(0.14620169, dtype=float32),\n",
       "  array(0.18928765, dtype=float32),\n",
       "  array(0.21096095, dtype=float32),\n",
       "  array(0.1245181, dtype=float32),\n",
       "  array(0.11584906, dtype=float32),\n",
       "  array(0.11033951, dtype=float32),\n",
       "  array(0.07676325, dtype=float32),\n",
       "  array(0.18677892, dtype=float32),\n",
       "  array(0.10169978, dtype=float32),\n",
       "  array(0.12687422, dtype=float32),\n",
       "  array(0.07519835, dtype=float32),\n",
       "  array(0.12833078, dtype=float32),\n",
       "  array(0.12703878, dtype=float32),\n",
       "  array(0.14856018, dtype=float32),\n",
       "  array(0.07329917, dtype=float32),\n",
       "  array(0.12285908, dtype=float32),\n",
       "  array(0.13041557, dtype=float32),\n",
       "  array(0.09870753, dtype=float32),\n",
       "  array(0.19633159, dtype=float32),\n",
       "  array(0.09950843, dtype=float32),\n",
       "  array(0.14824249, dtype=float32),\n",
       "  array(0.18379915, dtype=float32),\n",
       "  array(0.07306704, dtype=float32),\n",
       "  array(0.12059886, dtype=float32),\n",
       "  array(0.15742402, dtype=float32),\n",
       "  array(0.0893617, dtype=float32),\n",
       "  array(0.13399315, dtype=float32),\n",
       "  array(0.1486881, dtype=float32),\n",
       "  array(0.14438912, dtype=float32),\n",
       "  array(0.15482377, dtype=float32),\n",
       "  array(0.1787434, dtype=float32),\n",
       "  array(0.15505014, dtype=float32),\n",
       "  array(0.1294962, dtype=float32),\n",
       "  array(0.12081233, dtype=float32),\n",
       "  array(0.05246895, dtype=float32),\n",
       "  array(0.13150081, dtype=float32),\n",
       "  array(0.06834119, dtype=float32),\n",
       "  array(0.08540282, dtype=float32),\n",
       "  array(0.15262257, dtype=float32),\n",
       "  array(0.12552461, dtype=float32),\n",
       "  array(0.13354091, dtype=float32),\n",
       "  array(0.07197501, dtype=float32),\n",
       "  array(0.07358906, dtype=float32),\n",
       "  array(0.11007352, dtype=float32),\n",
       "  array(0.10646541, dtype=float32),\n",
       "  array(0.1139508, dtype=float32),\n",
       "  array(0.08157508, dtype=float32),\n",
       "  array(0.05788158, dtype=float32),\n",
       "  array(0.07457559, dtype=float32),\n",
       "  array(0.16870065, dtype=float32),\n",
       "  array(0.10344765, dtype=float32),\n",
       "  array(0.12761189, dtype=float32),\n",
       "  array(0.11279608, dtype=float32),\n",
       "  array(0.11383554, dtype=float32),\n",
       "  array(0.14241661, dtype=float32),\n",
       "  array(0.09846789, dtype=float32),\n",
       "  array(0.13008933, dtype=float32),\n",
       "  array(0.08087789, dtype=float32),\n",
       "  array(0.17537762, dtype=float32),\n",
       "  array(0.15928878, dtype=float32),\n",
       "  array(0.09401301, dtype=float32),\n",
       "  array(0.13602853, dtype=float32),\n",
       "  array(0.11750999, dtype=float32),\n",
       "  array(0.11228995, dtype=float32),\n",
       "  array(0.11446591, dtype=float32),\n",
       "  array(0.11993641, dtype=float32),\n",
       "  array(0.10748498, dtype=float32),\n",
       "  array(0.09909367, dtype=float32),\n",
       "  array(0.10331073, dtype=float32),\n",
       "  array(0.12021632, dtype=float32),\n",
       "  array(0.04823084, dtype=float32)],\n",
       " 'train_acc_history': [0.9820833333333333],\n",
       " 'val_acc_history': [0.9493866003787879],\n",
       " 'val_loss_history': [0.12461954]}"
      ]
     },
     "execution_count": 40,
     "metadata": {},
     "output_type": "execute_result"
    }
   ],
   "source": [
    "loss_hist[1]"
   ]
  },
  {
   "cell_type": "code",
   "execution_count": 77,
   "metadata": {},
   "outputs": [],
   "source": [
    "loss = []\n",
    "acc_train = []\n",
    "acc_val = []\n",
    "val_loss = []\n",
    "for i in range(len(loss_hist)):\n",
    "    loss.append(loss_hist[i]['train_loss_history'])\n",
    "    acc_train.append(loss_hist[i]['train_acc_history'])\n",
    "    acc_val.append(loss_hist[i]['val_acc_history'])\n",
    "    val_loss.append(loss_hist[i]['val_loss_history'])"
   ]
  },
  {
   "cell_type": "code",
   "execution_count": 78,
   "metadata": {},
   "outputs": [],
   "source": [
    "loss = np.hstack(loss)\n",
    "acc_train = np.hstack(acc_train)\n",
    "acc_val = np.hstack(acc_val)\n",
    "val_loss = np.hstack(val_loss)"
   ]
  },
  {
   "cell_type": "code",
   "execution_count": 90,
   "metadata": {},
   "outputs": [
    {
     "data": {
      "text/plain": [
       "Text(0.5,1,'Loss trend')"
      ]
     },
     "execution_count": 90,
     "metadata": {},
     "output_type": "execute_result"
    },
    {
     "data": {
      "image/png": "[encoded data removed]",
      "text/plain": [
       "<Figure size 432x288 with 1 Axes>"
      ]
     },
     "metadata": {
      "needs_background": "light"
     },
     "output_type": "display_data"
    }
   ],
   "source": [
    "fig = plt.figure()\n",
    "ax = fig.add_axes([0, 0, 1, 1])\n",
    "ax.plot(loss)\n",
    "ax.plot(arr2_stretch, 'rs')\n",
    "ax.set_title('Loss trend')\n",
    "ax.set_xlabel('# of iterations')\n",
    "ax\n"
   ]
  },
  {
   "cell_type": "code",
   "execution_count": 84,
   "metadata": {},
   "outputs": [
    {
     "data": {
      "text/plain": [
       "[<matplotlib.lines.Line2D at 0x7fd7089657f0>,\n",
       " <matplotlib.lines.Line2D at 0x7fd70891f198>]"
      ]
     },
     "execution_count": 84,
     "metadata": {},
     "output_type": "execute_result"
    },
    {
     "data": {
      "image/png": "[encoded data removed]",
      "text/plain": [
       "<Figure size 432x288 with 1 Axes>"
      ]
     },
     "metadata": {
      "needs_background": "light"
     },
     "output_type": "display_data"
    }
   ],
   "source": [
    "arr_ref = loss  \n",
    "arr2 = val_loss       # shape (5,), to \"stretch\"\n",
    "arr2_interp = interp.interp1d(np.arange(arr2.size),arr2)\n",
    "arr2_stretch = arr2_interp(np.linspace(0,arr2.size-1,arr_ref.size))\n",
    "\n",
    "# plot the examples, assuming same x_min, x_max for all data\n",
    "xmin,xmax = 0,1\n",
    "fig = plt.figure()\n",
    "ax = fig.add_axes([0, 0, 1, 1])\n",
    "ax.plot(np.linspace(xmin,xmax,arr2.size),arr2,'bo-',\n",
    "         np.linspace(xmin,xmax,arr2_stretch.size),arr2_stretch,'r') "
   ]
  }
 ],
 "metadata": {
  "kernelspec": {
   "display_name": "Python 3",
   "language": "python",
   "name": "python3"
  },
  "language_info": {
   "codemirror_mode": {
    "name": "ipython",
    "version": 3
   },
   "file_extension": ".py",
   "mimetype": "text/x-python",
   "name": "python",
   "nbconvert_exporter": "python",
   "pygments_lexer": "ipython3",
   "version": "3.7.0"
  }
 },
 "nbformat": 4,
 "nbformat_minor": 2
}
